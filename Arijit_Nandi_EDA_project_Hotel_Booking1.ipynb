{
  "nbformat": 4,
  "nbformat_minor": 0,
  "metadata": {
    "colab": {
      "private_outputs": true,
      "provenance": [],
      "collapsed_sections": [
        "w6K7xa23Elo4",
        "yQaldy8SH6Dl",
        "mDgbUHAGgjLW",
        "gCX9965dhzqZ",
        "gIfDvo9L0UH2"
      ],
      "gpuType": "T4",
      "include_colab_link": true
    },
    "kernelspec": {
      "name": "python3",
      "display_name": "Python 3"
    },
    "language_info": {
      "name": "python"
    },
    "gpuClass": "standard",
    "accelerator": "GPU"
  },
  "cells": [
    {
      "cell_type": "markdown",
      "metadata": {
        "id": "view-in-github",
        "colab_type": "text"
      },
      "source": [
        "<a href=\"https://colab.research.google.com/github/arijitnandi1/Hotel-Booking-Analysis-EDA-project/blob/main/Arijit_Nandi_EDA_project_Hotel_Booking1.ipynb\" target=\"_parent\"><img src=\"https://colab.research.google.com/assets/colab-badge.svg\" alt=\"Open In Colab\"/></a>"
      ]
    },
    {
      "cell_type": "markdown",
      "source": [
        "## **Project Name**    - ***Hotel  Booking  Analysis***\n",
        "\n",
        "\n",
        "\n",
        "\n"
      ],
      "metadata": {
        "id": "vncDsAP0Gaoa"
      }
    },
    {
      "cell_type": "markdown",
      "source": [
        "##### **Project Type**    - EDA\n",
        "##### **Contribution**    - Individual\n",
        "##### **Name -** Arijit Nandi\n"
      ],
      "metadata": {
        "id": "beRrZCGUAJYm"
      }
    },
    {
      "cell_type": "markdown",
      "source": [
        "# **Project Summary -**"
      ],
      "metadata": {
        "id": "FJNUwmbgGyua"
      }
    },
    {
      "cell_type": "markdown",
      "source": [
        "1. In this project, I began to explore the dataset in  which Hotel Booking comprises of two types of hotel i.e., City Hotel & Resort Hotel.\n",
        "2. In the given data , there are 119390 rows and 32 columns.\n",
        "3. All the columns are divided into three dtypes-Objects Floats & Int.\n",
        "4. This Datasheet does have duplicate as well as null values. There are total of 31994 duplicate values and four columns have missing values.\n",
        "5. The maximum number of missing values are from 'Company' column the followed by 'Agent','Country' and 'Children' columns. The 'Children' columns consists of only 4 null values while 'Company' columns consists of 112593 null values.\n",
        "6. In this project, i have divided the data manipulation workflow into three different categories i.e., Data collection, Data cleaning and manipulation and EDA.\n",
        "7. Moving further i have used various basic function and attributes i.e.,\n",
        "Data collection first step to find different columns which is done by using various methods like head(),tail(), info(), describe(), columns(), and some other methods are used for the collection of data.\n",
        "\n",
        "8. In this dataset there are both duplicates and missing values available. So, i have to deal with them and as a result i have replaced the null and missing values and also have dropped the duplicate values.\n",
        "\n",
        "9. Further i have converted the datatypes of columns into appropriate datatype. I also added some columns. This dataset was also containing duplicate values, so the duplicate values was dropped.\n",
        "\n",
        "10. I have found that there were some rows where the combining values of adults, babies, and children was 0 so, this simply means there were no guests as 0 indicates presence of none. So there were no bookings made. As a result i simply dropped the rows where the combining values of babies, adults and children were 0.\n",
        "\n",
        "11. The data type of 'reservation_status_date' column was object type,so it was changed to data type format for better use. There were two new columns that was added, one is 'total_stay' and the other one is 'total_people'.\n",
        "\n",
        "12. Before visualizing any type of data set we need to do data wrangling so,for that we have checked the null value of all the columns so after completing the process of data visualization we moved to the data visualization part.\n",
        "\n",
        "13. Then i have started the data visualization part. I have done the visualization in a structured way while following 'UBM'Rule.\n",
        "\n",
        "- U - Univariate Analysis\n",
        "- B - Bivariate Analysis(Numerical-categories)\n",
        "- M - Multivariate Analysis.\n",
        "\n",
        "a) In the Data visualization process i have used various charts and have dived deep into the understanding of the graphs to catch the proper insights that gives the bussiness outcomes.\n",
        "\n",
        "b) Then i have also used the correlation matrix to get the relationship between the different columns that also play a crucial role in understanding the wholesome relationship of the dataset.\n",
        "\n",
        "c) Thus, i have explored the data and discovered some important factors that governs the bookings."
      ],
      "metadata": {
        "id": "F6v_1wHtG2nS"
      }
    },
    {
      "cell_type": "markdown",
      "source": [
        "# **GitHub Link -**"
      ],
      "metadata": {
        "id": "w6K7xa23Elo4"
      }
    },
    {
      "cell_type": "markdown",
      "source": [],
      "metadata": {
        "id": "h1o69JH3Eqqn"
      }
    },
    {
      "cell_type": "markdown",
      "source": [
        "# **Problem Statement**\n"
      ],
      "metadata": {
        "id": "yQaldy8SH6Dl"
      }
    },
    {
      "cell_type": "markdown",
      "source": [
        "**Have you ever wondered when the best time of the year to book a hotel room is ? or the optimal length of stay in order to get the best daily rate? What if you wanted to predict whether or not a hotel was likely to recieve a disproportionately high number of special requests ? This hotel booking dataset can help you explore those questions! This data contains booking information of city hotel and resort hotel, and includes information such as when the booking was made, length of stay the number of adult, children, babies etc.**"
      ],
      "metadata": {
        "id": "DpeJGUA3kjGy"
      }
    },
    {
      "cell_type": "markdown",
      "source": [
        "#### **Define Your Business Objective?**"
      ],
      "metadata": {
        "id": "PH-0ReGfmX4f"
      }
    },
    {
      "cell_type": "markdown",
      "source": [
        "Discovering the important factors and that govern bookings and explore and analysis the data for business output."
      ],
      "metadata": {
        "id": "PhDvGCAqmjP1"
      }
    },
    {
      "cell_type": "markdown",
      "source": [
        "# **General Guidelines** : -  "
      ],
      "metadata": {
        "id": "mDgbUHAGgjLW"
      }
    },
    {
      "cell_type": "markdown",
      "source": [
        "1.   Well-structured, formatted, and commented code is required.\n",
        "2.   Exception Handling, Production Grade Code & Deployment Ready Code will be a plus. Those students will be awarded some additional credits.\n",
        "     \n",
        "     The additional credits will have advantages over other students during Star Student selection.\n",
        "       \n",
        "             [ Note: - Deployment Ready Code is defined as, the whole .ipynb notebook should be executable in one go\n",
        "                       without a single error logged. ]\n",
        "\n",
        "3.   Each and every logic should have proper comments.\n",
        "4. You may add as many number of charts you want. Make Sure for each and every chart the following format should be answered.\n",
        "        \n",
        "\n",
        "```\n",
        "# Chart visualization code\n",
        "```\n",
        "            \n",
        "\n",
        "*   Why did you pick the specific chart?\n",
        "*   What is/are the insight(s) found from the chart?\n",
        "* Will the gained insights help creating a positive business impact?\n",
        "Are there any insights that lead to negative growth? Justify with specific reason.\n",
        "\n",
        "5. You have to create at least 20 logical & meaningful charts having important insights.\n",
        "\n",
        "\n",
        "[ Hints : - Do the Vizualization in  a structured way while following \"UBM\" Rule.\n",
        "\n",
        "U - Univariate Analysis,\n",
        "\n",
        "B - Bivariate Analysis (Numerical - Categorical, Numerical - Numerical, Categorical - Categorical)\n",
        "\n",
        "M - Multivariate Analysis\n",
        " ]\n",
        "\n",
        "\n",
        "\n"
      ],
      "metadata": {
        "id": "ZrxVaUj-hHfC"
      }
    },
    {
      "cell_type": "markdown",
      "source": [
        "# ***Let's Begin !***"
      ],
      "metadata": {
        "id": "O_i_v8NEhb9l"
      }
    },
    {
      "cell_type": "markdown",
      "source": [
        "## ***1. Knowing the Data***"
      ],
      "metadata": {
        "id": "HhfV-JJviCcP"
      }
    },
    {
      "cell_type": "markdown",
      "source": [
        "### Import Libraries"
      ],
      "metadata": {
        "id": "Y3lxredqlCYt"
      }
    },
    {
      "cell_type": "code",
      "source": [
        "# Import Libraries\n",
        "import pandas as pd\n",
        "import numpy as np\n",
        "import matplotlib.pyplot as plt\n",
        "%matplotlib inline\n",
        "import seaborn as sns\n",
        "import missingno as msno        # For checking the missing values only."
      ],
      "metadata": {
        "id": "M8Vqi-pPk-HR"
      },
      "execution_count": null,
      "outputs": []
    },
    {
      "cell_type": "markdown",
      "source": [
        "### Dataset Loading"
      ],
      "metadata": {
        "id": "3RnN4peoiCZX"
      }
    },
    {
      "cell_type": "code",
      "source": [
        "# Load Dataset\n",
        "from google.colab import drive\n",
        "drive.mount('/content/drive')"
      ],
      "metadata": {
        "id": "edWXe5AiRaAD"
      },
      "execution_count": null,
      "outputs": []
    },
    {
      "cell_type": "code",
      "source": [
        "data_csv='/content/drive/MyDrive/Colab Notebooks/Python /Capstone Project/Data Sets/Hotel Bookings.csv'\n",
        "hotel_df = pd.read_csv(data_csv)            # Storing the path data in hotel_df dataframe."
      ],
      "metadata": {
        "id": "XxRCfZH3RjUW"
      },
      "execution_count": null,
      "outputs": []
    },
    {
      "cell_type": "markdown",
      "source": [
        "### Dataset First View"
      ],
      "metadata": {
        "id": "x71ZqKXriCWQ"
      }
    },
    {
      "cell_type": "code",
      "source": [
        "# Dataset First Look\n",
        "pd.set_option('display.max_columns',32)\n",
        "hotel_df.head()"
      ],
      "metadata": {
        "id": "LWNFOSvLl09H"
      },
      "execution_count": null,
      "outputs": []
    },
    {
      "cell_type": "markdown",
      "source": [
        "### Dataset Rows & Columns count"
      ],
      "metadata": {
        "id": "7hBIi_osiCS2"
      }
    },
    {
      "cell_type": "code",
      "source": [
        "# Dataset Rows & Columns count\n",
        "hotel_df.shape"
      ],
      "metadata": {
        "id": "Kllu7SJgmLij"
      },
      "execution_count": null,
      "outputs": []
    },
    {
      "cell_type": "code",
      "source": [
        "# By seeing the dataset, there are a total of 119390 Rows and 32 Columns."
      ],
      "metadata": {
        "id": "i5I25kQFTGD2"
      },
      "execution_count": null,
      "outputs": []
    },
    {
      "cell_type": "markdown",
      "source": [
        "### Dataset Information"
      ],
      "metadata": {
        "id": "JlHwYmJAmNHm"
      }
    },
    {
      "cell_type": "code",
      "source": [
        "# Dataset Info\n",
        "hotel_df.info()"
      ],
      "metadata": {
        "id": "e9hRXRi6meOf"
      },
      "execution_count": null,
      "outputs": []
    },
    {
      "cell_type": "markdown",
      "source": [
        "#### Duplicate Values"
      ],
      "metadata": {
        "id": "35m5QtbWiB9F"
      }
    },
    {
      "cell_type": "code",
      "source": [
        "# Dataset Duplicate Value Count\n",
        "hotel_df.duplicated().value_counts()\n"
      ],
      "metadata": {
        "id": "1sLdpKYkmox0"
      },
      "execution_count": null,
      "outputs": []
    },
    {
      "cell_type": "markdown",
      "source": [
        "#### Missing Values/Null Values"
      ],
      "metadata": {
        "id": "PoPl-ycgm1ru"
      }
    },
    {
      "cell_type": "code",
      "source": [
        "# Missing Values/Null Values Count\n",
        "hotel_df.isnull().sum().sort_values(ascending=False)"
      ],
      "metadata": {
        "id": "GgHWkxvamxVg"
      },
      "execution_count": null,
      "outputs": []
    },
    {
      "cell_type": "code",
      "source": [
        "# Visualizing the missing values\n",
        "# Finding the missing values through Bar Graph & Heat Map:\n",
        "msno.bar(hotel_df,figsize=(10,6), fontsize=10)"
      ],
      "metadata": {
        "id": "3q5wnI3om9sJ"
      },
      "execution_count": null,
      "outputs": []
    },
    {
      "cell_type": "markdown",
      "source": [
        "### What did you know about your dataset?"
      ],
      "metadata": {
        "id": "H0kj-8xxnORC"
      }
    },
    {
      "cell_type": "markdown",
      "source": [
        "###### <b> After looking over the dataset, here are some following observations:</b>\n",
        "<i><b>\n",
        "- This Dataset contains 119390 rows and 32 columns.\n",
        "- In the data there are  31994 duplicates values, which must be dropped.\n",
        "- In the entire dataset there are nearly  less null values, but some of the columns contain more than 10% of null values.\n",
        "- Agent column holds more than 20% of the missing value and can be taken care properly as it is an important column and does not hold much missing values.\n",
        "- On the otherside the column Company holds more than 90% of the missing values and is of no use as it contain greater number of null values. I must drop this column afterwards while analysing the dataset.\n",
        "\n",
        " These are some of the conclusion which i have come until now after going       through the dataset. </i></b>"
      ],
      "metadata": {
        "id": "gfoNAAC-nUe_"
      }
    },
    {
      "cell_type": "markdown",
      "source": [
        "## ***2. Understanding Your Variables***"
      ],
      "metadata": {
        "id": "nA9Y7ga8ng1Z"
      }
    },
    {
      "cell_type": "code",
      "source": [
        "# Dataset Columns\n",
        "print(hotel_df.columns)"
      ],
      "metadata": {
        "id": "j7xfkqrt5Ag5"
      },
      "execution_count": null,
      "outputs": []
    },
    {
      "cell_type": "code",
      "source": [
        "# Dataset Describe\n",
        "hotel_df.describe()"
      ],
      "metadata": {
        "id": "DnOaZdaE5Q5t"
      },
      "execution_count": null,
      "outputs": []
    },
    {
      "cell_type": "markdown",
      "source": [
        "### Variables Description"
      ],
      "metadata": {
        "id": "PBTbrJXOngz2"
      }
    },
    {
      "cell_type": "markdown",
      "source": [
        "\n",
        "- hotel - Name of the hotel (Resort an dcity hotel)\n",
        "- is_canceled - if the booking was cancelled (1) or not cancelled (0)\n",
        "- lead_time - Number of days that elapsed between the entering date of the booking into the PMS and the arrival date.\n",
        "- arrival_date_year - year of the arrival date.\n",
        "- arrival_date_month - month of the arrival date.\n",
        "- arrival_date_week_number - week number of the arrival date.\n",
        "- arrival_date_day_of_month\t- day of arrival date\n",
        "- stays_in_weekend_nights - number of weekend nights guest stayed or booked the hotel. (Saturday and Sunday)\n",
        "- stays_in_week_nights - number of week nights guest stays or booked the hotel.(Monday to Saturday)\n",
        "- adults - number of adults among guests.\n",
        "- children - number of childrens among the guests.\n",
        "- babies  - number of babies amaong the guests.\n",
        "- meal - kinds of meal opted for to the guests.\n",
        "- country - Country code.\n",
        "- market_segment - which segment customers belong to.\n",
        "- distribution_channel - name of the booking distribution channel, The term 'TA'means Travel Agents & 'TO' means Tour Operators.\n",
        "- is_repeated_guest -If the booking was done by the repeated guest (1) or not (0)\n",
        "- previous_cancellations - number of previous booking that was cancelled by the customer prior to the current booking.\n",
        "- previous_bookings_not_canceled - number of previous booking not cancelled by the customer prior to the current booking.\n",
        "- reserved_room_type - code of room type reserved.\n",
        "- assigned_room_type - code of room type assigned.\n",
        "- booking_charges - number of charges made to the booking.\n",
        "- deposit_type - charges deposited by the guest.\n",
        "- agent - ID of the agent that made the booking.\n",
        "- company - ID of the company that made the booking.\n",
        "- days_in_waiting_list - number of days the booking was in the waiting list.\n",
        "- customer_type - type of customers, assuming the following categories.\n",
        "- adr - Average daily rate.\n",
        "- required_car_parking_spaces - number of car parking space required to park a car.\n",
        "- total_of_special_requests - number of special request made by the cusromers.\n",
        "- reservation_status - Reservation status\n",
        "- reservation_status_date - Date at which the last reservation date was updated.\n"
      ],
      "metadata": {
        "id": "aJV4KIxSnxay"
      }
    },
    {
      "cell_type": "markdown",
      "source": [
        "### Check Unique Values for each variable."
      ],
      "metadata": {
        "id": "u3PMJOP6ngxN"
      }
    },
    {
      "cell_type": "code",
      "source": [
        "# Check Unique Values for each variable.\n",
        "for i in hotel_df.columns.tolist():\n",
        "  print('Number of unique values in', i, 'is', hotel_df[i].nunique())"
      ],
      "metadata": {
        "id": "zms12Yq5n-jE"
      },
      "execution_count": null,
      "outputs": []
    },
    {
      "cell_type": "markdown",
      "source": [
        "##### <b>Now, checking the unique values which are important one by one:"
      ],
      "metadata": {
        "id": "HRCz3f01z7CF"
      }
    },
    {
      "cell_type": "code",
      "source": [
        "print('The unique value of hotel year are ',hotel_df['hotel'].unique())\n",
        "print('The unique value of arrival date year are ',hotel_df['arrival_date_year'].unique())\n",
        "print('The unique value of is cancelled are',hotel_df['is_canceled'].unique())\n",
        "print('The unique value of meal are',hotel_df['meal'].unique())\n",
        "print('The unique value of distribution channel are',hotel_df['distribution_channel'].unique())\n",
        "print('The unique value of market segment are',hotel_df['market_segment'].unique())\n",
        "print('The unique value of children are',hotel_df['children'].unique())"
      ],
      "metadata": {
        "id": "chEczBIZ2a99"
      },
      "execution_count": null,
      "outputs": []
    },
    {
      "cell_type": "markdown",
      "source": [
        "## 3. ***Data Wrangling***"
      ],
      "metadata": {
        "id": "dauF4eBmngu3"
      }
    },
    {
      "cell_type": "markdown",
      "source": [
        "### Data Wrangling Code"
      ],
      "metadata": {
        "id": "bKJF3rekwFvQ"
      }
    },
    {
      "cell_type": "code",
      "source": [
        "# Write your code to make your dataset analysis ready.\n",
        "#missing values in column\n",
        "hotel_df.isnull().sum().sort_values(ascending=False)[:5]"
      ],
      "metadata": {
        "id": "wk-9a2fpoLcV"
      },
      "execution_count": null,
      "outputs": []
    },
    {
      "cell_type": "markdown",
      "source": [
        "<b>\n",
        "- Dropping the company column as it contains maximum numbers of null value </b>\n",
        "\n"
      ],
      "metadata": {
        "id": "EjbxJpqZ-5v8"
      }
    },
    {
      "cell_type": "code",
      "source": [
        "hotel_df.drop('company',axis=1,inplace=True )\n"
      ],
      "metadata": {
        "id": "gpoQD3bs_YfR"
      },
      "execution_count": null,
      "outputs": []
    },
    {
      "cell_type": "code",
      "source": [
        "hotel_df.shape"
      ],
      "metadata": {
        "id": "-0aRp9ONANLd"
      },
      "execution_count": null,
      "outputs": []
    },
    {
      "cell_type": "code",
      "source": [
        "# Now, replacing the null values of agents and children with zero and replacing the null values of country with others\n",
        "hotel_df[['agent','children']]=hotel_df[['agent','children']].fillna(0)\n",
        "hotel_df[['country']]=hotel_df[['country']].fillna('other')"
      ],
      "metadata": {
        "id": "-gRwSEe3_PPn"
      },
      "execution_count": null,
      "outputs": []
    },
    {
      "cell_type": "code",
      "source": [
        "#Checking....\n",
        "hotel_df.isnull().sum().sort_values(ascending=False)[:5]"
      ],
      "metadata": {
        "id": "AJO9baxGBJ4m"
      },
      "execution_count": null,
      "outputs": []
    },
    {
      "cell_type": "code",
      "source": [
        "# Checking for the duplicate values of the dataframe\n",
        "len(hotel_df[hotel_df.duplicated()])"
      ],
      "metadata": {
        "id": "zYuNOa2qBdxs"
      },
      "execution_count": null,
      "outputs": []
    },
    {
      "cell_type": "code",
      "source": [
        "#Dropping the duplicates\n",
        "hotel_df = hotel_df.drop_duplicates()\n",
        "len(hotel_df[hotel_df.duplicated()])"
      ],
      "metadata": {
        "id": "Zdgkmec9Budk"
      },
      "execution_count": null,
      "outputs": []
    },
    {
      "cell_type": "code",
      "source": [
        "# Checking the shape of the dataset whose combining values of adults, babies and children column is 0..\n",
        "hotel_df[hotel_df['babies']+hotel_df['adults']+hotel_df['children']==0].shape"
      ],
      "metadata": {
        "id": "3LQnUoMg-QWp"
      },
      "execution_count": null,
      "outputs": []
    },
    {
      "cell_type": "code",
      "source": [
        "# Checking the updated dataset..\n",
        "hotel_df.shape"
      ],
      "metadata": {
        "id": "YDAIEQZZ_fmo"
      },
      "execution_count": null,
      "outputs": []
    },
    {
      "cell_type": "code",
      "source": [
        "# Creating the copy of the dataset for further analysis..\n",
        "hotel_df1=hotel_df.copy()"
      ],
      "metadata": {
        "id": "G6hISaFk_p_o"
      },
      "execution_count": null,
      "outputs": []
    },
    {
      "cell_type": "code",
      "source": [
        "# Dropping the rows where the combining values of adults, children and babies column is 0, that means no booking were made :\n",
        "hotel_df1.drop(hotel_df1[hotel_df1['babies']+hotel_df1['adults']+hotel_df1['children']==0].index,inplace=True)"
      ],
      "metadata": {
        "id": "iBUU2jqLAFjB"
      },
      "execution_count": null,
      "outputs": []
    },
    {
      "cell_type": "code",
      "source": [
        "# Changing the data type of column 'reservation_status_date' from object to date_type...\n",
        "hotel_df1['reservation_status_date']=pd.to_datetime(hotel_df1['reservation_status_date'],format='%Y-%m-%d')"
      ],
      "metadata": {
        "id": "8YpNZIpHBT2b"
      },
      "execution_count": null,
      "outputs": []
    },
    {
      "cell_type": "markdown",
      "source": [
        "# <b><i> Adding important columns"
      ],
      "metadata": {
        "id": "ydaKWBScC9ip"
      }
    },
    {
      "cell_type": "code",
      "source": [
        "# Adding total staying days in hotel\n",
        "hotel_df1['total_stays']= hotel_df1['stays_in_weekend_nights']+hotel_df1['stays_in_week_nights']\n",
        "# Adding total number of peoples\n",
        "hotel_df1['total_people']=hotel_df1['adults']+hotel_df1['children']+hotel_df1['babies']"
      ],
      "metadata": {
        "id": "f8-IPJDTDMTp"
      },
      "execution_count": null,
      "outputs": []
    },
    {
      "cell_type": "code",
      "source": [
        "# Checking the shape of the dataset\n",
        "hotel_df1.shape"
      ],
      "metadata": {
        "id": "F6063XVBFj-B"
      },
      "execution_count": null,
      "outputs": []
    },
    {
      "cell_type": "code",
      "source": [
        "# Save DataFrame to CSV\n",
        "# hotel_df1.to_csv('hotel_df1.csv', index=False)"
      ],
      "metadata": {
        "id": "ghtlXq1nK2DL"
      },
      "execution_count": null,
      "outputs": []
    },
    {
      "cell_type": "code",
      "source": [
        "# from google.colab import files\n",
        "# files.download('hotel_df1.csv')"
      ],
      "metadata": {
        "id": "8AebD3OrLM-Y"
      },
      "execution_count": null,
      "outputs": []
    },
    {
      "cell_type": "markdown",
      "source": [
        "## What all manipulations have you done and insights you found?"
      ],
      "metadata": {
        "id": "MSa1f5Uengrz"
      }
    },
    {
      "cell_type": "markdown",
      "source": [
        "#### <b> Manipulation and insights found by me are as follows :\n",
        "- There were four column with the null values, so i have replaced the null values with 'zero', and 'other', and dropped the column 'company because there was a handfull of null value\n",
        "- This dataset also contains some duplicate values, so i dropped them.\n",
        "- The data type of 'reservation_status_date' is changed from object type format to date type format.\n",
        "- Two new columns were added in the dataset, that is 'total_stays' and 'total_people'.\n",
        "- We found that there were some rows in which the combining values of adults, babies and children was 0 so this simply means, there were no guests as 0 indicates presence of none. So, there were no bookings made so as result, we dropped the rows where combining values of adults, babies and children columns was 0."
      ],
      "metadata": {
        "id": "LbyXE7I1olp8"
      }
    },
    {
      "cell_type": "markdown",
      "source": [
        "## ***4. Data Vizualization, Storytelling & Experimenting with charts : Understand the relationships between variables***"
      ],
      "metadata": {
        "id": "GF8Ens_Soomf"
      }
    },
    {
      "cell_type": "markdown",
      "source": [
        "#### Chart - 1\n",
        "### <b> Plotting Histogram\n"
      ],
      "metadata": {
        "id": "YJ55k-q6phqO"
      }
    },
    {
      "cell_type": "code",
      "source": [
        "# Chart - 1 visualization code\n",
        "hotel_df1.hist(figsize=(24,18))\n",
        "plt.show()"
      ],
      "metadata": {
        "id": "B2aS4O1ophqO"
      },
      "execution_count": null,
      "outputs": []
    },
    {
      "cell_type": "markdown",
      "source": [
        "##### 1. Why did you pick the specific chart?"
      ],
      "metadata": {
        "id": "7PqGu0K32kXx"
      }
    },
    {
      "cell_type": "markdown",
      "source": [
        "To understand the data in clear way with proper insights, I have used histogram plot over here. It is used to summarize discrete data  that are measured on an interval scale. It is often used to  illustrate the major features of the distribution of the data in convenient form. It is also useful when dealing with  large data sets greater than 100 observations. It can help detect any unusual observation(outliers) in the data if present. Thus I have used the histogram plot to analysis the variable distribution over the whole dataset whether its symmetric or not."
      ],
      "metadata": {
        "id": "N8X-QKeF2sSl"
      }
    },
    {
      "cell_type": "markdown",
      "source": [
        "Insights found from the chart as follows:\n",
        "- We have seen that the maximun guests came in the year 2016.\n",
        "- Maximum arrival week number is 30.\n",
        "- Maximum arrival happens to be in the end of the month.\n",
        "- Maximum guests come with no children.\n",
        "- There is very less requirement of car praking spaces."
      ],
      "metadata": {
        "id": "cXbs-SkJ2PwG"
      }
    },
    {
      "cell_type": "markdown",
      "source": [
        "##### 3. Will the gained insights help creating a positive business impact?\n",
        "Are there any insights that lead to negative growth? Justify with specific reason."
      ],
      "metadata": {
        "id": "jh3WmswB2RO-"
      }
    },
    {
      "cell_type": "markdown",
      "source": [
        "Just histogram  cannot define business impact. The graph was done only for seeing the distribution  of columns data in the dataset."
      ],
      "metadata": {
        "id": "wJ9auWp42Xy3"
      }
    },
    {
      "cell_type": "markdown",
      "source": [
        "### Chart - 2\n",
        "<b> Pie chart for most preffered hotel(Univvarite)"
      ],
      "metadata": {
        "id": "0wOQAZs5pc--"
      }
    },
    {
      "cell_type": "code",
      "source": [
        "# Chart - 2 visualization code\n",
        "hotel_df1['hotel'].value_counts().plot.pie(explode=[0.05,0.05],autopct='%1.1f%%',shadow=True,figsize=(12,10),fontsize=18)\n",
        "plt.title('Pie Chart for most preffered hotel',fontsize=15)\n",
        "plt.show()"
      ],
      "metadata": {
        "id": "7v_ESjsspbW7"
      },
      "execution_count": null,
      "outputs": []
    },
    {
      "cell_type": "markdown",
      "source": [
        "##### 1. Why did you pick the specific chart?"
      ],
      "metadata": {
        "id": "K5QZ13OEpz2H"
      }
    },
    {
      "cell_type": "markdown",
      "source": [
        "To present the data in which most booking of the hotel has been done."
      ],
      "metadata": {
        "id": "XESiWehPqBRc"
      }
    },
    {
      "cell_type": "markdown",
      "source": [
        "##### 2. What is/are the insight(s) found from the chart?"
      ],
      "metadata": {
        "id": "lQ7QKXXCp7Bj"
      }
    },
    {
      "cell_type": "markdown",
      "source": [
        "Insights which i have found that, City Hotel has the higher booking number which is 61.10% than the Resort hotel which is 38.90%. Hence we can say that City Hotel has more consumptions."
      ],
      "metadata": {
        "id": "C_j1G7yiqdRP"
      }
    },
    {
      "cell_type": "markdown",
      "source": [
        "##### 3. Will the gained insights help creating a positive business impact?\n",
        "Are there any insights that lead to negative growth? Justify with specific reason."
      ],
      "metadata": {
        "id": "448CDAPjqfQr"
      }
    },
    {
      "cell_type": "markdown",
      "source": [
        "Yes, for both the hotel, this data makes some positive business impact:-\n",
        "- City Hotel - Provides more services to attract more guests to increase more revenue.\n",
        "- Resort Hotel - Please find some solution to attract guests."
      ],
      "metadata": {
        "id": "3cspy4FjqxJW"
      }
    },
    {
      "cell_type": "markdown",
      "source": [
        "#### Chart - 2 <b>\n",
        "Hotel Types with highest adr(Bivariate with categorical-Numerical)"
      ],
      "metadata": {
        "id": "KSlN3yHqYklG"
      }
    },
    {
      "cell_type": "code",
      "source": [
        "# Chart - 2 visualization code\\\n",
        "group_by_hotel=hotel_df1.groupby('hotel')\n",
        "\n",
        "\n",
        "# Group by hotel adr :\n",
        "highest_adr=group_by_hotel['adr'].mean().reset_index()\n",
        "# Set plot size :\n",
        "plt.figure(figsize=(10,8))\n",
        "# Set the x, y and the title label :\n",
        "plt.xlabel('Hotel type', fontsize=13)\n",
        "plt.ylabel('ADR',fontsize=13)\n",
        "plt.title('Avg ADR of each hotel type',fontsize=15)\n",
        "# Plot the graph\n",
        "sns.barplot(x=highest_adr['hotel'],y=highest_adr['adr'], color ='orange' )\n",
        "plt.show()\n"
      ],
      "metadata": {
        "id": "R4YgtaqtYklH"
      },
      "execution_count": null,
      "outputs": []
    },
    {
      "cell_type": "markdown",
      "source": [
        "##### 1. Why did you pick the specific chart?"
      ],
      "metadata": {
        "id": "t6dVpIINYklI"
      }
    },
    {
      "cell_type": "markdown",
      "source": [
        "To show the average ADR of each hotel in a clear way. We have used a bar chart."
      ],
      "metadata": {
        "id": "5aaW0BYyYklI"
      }
    },
    {
      "cell_type": "markdown",
      "source": [
        "##### 2. What is/are the insight(s) found from the chart?"
      ],
      "metadata": {
        "id": "ijmpgYnKYklI"
      }
    },
    {
      "cell_type": "markdown",
      "source": [
        "City Hotel has the highest adr, which means city hotel generates the more revenue than the resort hotel. More the adr more is the revenue."
      ],
      "metadata": {
        "id": "PSx9atu2YklI"
      }
    },
    {
      "cell_type": "markdown",
      "source": [
        "##### 3. Will the gained insights help creating a positive business impact?\n",
        "Are there any insights that lead to negative growth? Justify with specific reason."
      ],
      "metadata": {
        "id": "-JiQyfWJYklI"
      }
    },
    {
      "cell_type": "markdown",
      "source": [
        "City hotel can do more advertisements to get more customers that will ultimately add up to their revenue. City hotel already earning more but positive efforts towards growth will definetly adds a lot to grow overall revenue."
      ],
      "metadata": {
        "id": "BcBbebzrYklV"
      }
    },
    {
      "cell_type": "markdown",
      "source": [
        "#### Chart - 3\n",
        "### <b> Relationship between ADR and Total stay"
      ],
      "metadata": {
        "id": "EM7whBJCYoAo"
      }
    },
    {
      "cell_type": "code",
      "source": [
        "# Chart - 3 visualization code\n",
        "adr_and_stay = hotel_df1.groupby(['total_stays','adr','hotel']).agg('count').reset_index()\n",
        "adr_and_stay=adr_and_stay.iloc[:,:3]\n",
        "adr_and_stay=adr_and_stay.rename(columns={'is_canceled':'Number_of_stays'})\n",
        "adr_and_stay=adr_and_stay[:18000]\n",
        "adr_and_stay"
      ],
      "metadata": {
        "id": "t6GMdE67YoAp"
      },
      "execution_count": null,
      "outputs": []
    },
    {
      "cell_type": "code",
      "source": [
        "# Ploting the graph\n",
        "plt.figure(figsize=(16,8))\n",
        "sns.lineplot(x='total_stays',y='adr',data=adr_and_stay)\n",
        "plt.xlabel('Total_stays',fontsize=15)\n",
        "plt.ylabel('ADR',fontsize=15)\n",
        "plt.title('Relationship between ADR and Total stay',fontsize=15)\n",
        "plt.show()"
      ],
      "metadata": {
        "id": "vL0DdRTu8PU4"
      },
      "execution_count": null,
      "outputs": []
    },
    {
      "cell_type": "markdown",
      "source": [
        "##### 1. Why did you pick the specific chart?"
      ],
      "metadata": {
        "id": "fge-S5ZAYoAp"
      }
    },
    {
      "cell_type": "markdown",
      "source": [
        "This is a line chart, it helps to show slight changes if any through graphical visualization. So we can easily track the ups and downs of the graph very precisely."
      ],
      "metadata": {
        "id": "5dBItgRVYoAp"
      }
    },
    {
      "cell_type": "markdown",
      "source": [
        "##### 2. What is/are the insight(s) found from the chart?"
      ],
      "metadata": {
        "id": "85gYPyotYoAp"
      }
    },
    {
      "cell_type": "markdown",
      "source": [
        "The insights we can observe is that Total_stay is directly proportional to ADR, which means if total stay increases than ADR will also increase."
      ],
      "metadata": {
        "id": "4jstXR6OYoAp"
      }
    },
    {
      "cell_type": "markdown",
      "source": [
        "##### 3. Will the gained insights help creating a positive business impact?\n",
        "Are there any insights that lead to negative growth? Justify with specific reason."
      ],
      "metadata": {
        "id": "RoGjAbkUYoAp"
      }
    },
    {
      "cell_type": "markdown",
      "source": [
        "The Hotels should focus on increasing their ADR. They should advertise more, they should give more better facilities and good offers to attract the customers. Which means more the customers more the ADR."
      ],
      "metadata": {
        "id": "zfJ8IqMcYoAp"
      }
    },
    {
      "cell_type": "markdown",
      "source": [
        "#### Chart - 4\n",
        "### <b> Percentage of repeated guests(Univariate)"
      ],
      "metadata": {
        "id": "4Of9eVA-YrdM"
      }
    },
    {
      "cell_type": "code",
      "source": [
        "# Chart - 4 visualization code\n",
        "hotel_df1['is_repeated_guest'].value_counts().plot.pie(explode=[0.05,0.05],autopct='%1.1f%%',shadow=True,figsize=(12,10),fontsize=18)\n",
        "plt.title(' Percentage(%) of repeated guests',fontsize=15)\n",
        "plt.show()\n"
      ],
      "metadata": {
        "id": "irlUoxc8YrdO"
      },
      "execution_count": null,
      "outputs": []
    },
    {
      "cell_type": "markdown",
      "source": [
        "##### 1. Why did you pick the specific chart?"
      ],
      "metadata": {
        "id": "iky9q4vBYrdO"
      }
    },
    {
      "cell_type": "markdown",
      "source": [
        "Pie chart are used to represent the proportional data or relative data in single chart. This pie chart is showing the percentage of repeated guests(Where 0 is not repeated guest and 1 is repeated guests) through pie chart with different areas within the circle."
      ],
      "metadata": {
        "id": "aJRCwT6DYrdO"
      }
    },
    {
      "cell_type": "markdown",
      "source": [
        "##### 2. What is/are the insight(s) found from the chart?"
      ],
      "metadata": {
        "id": "F6T5p64dYrdO"
      }
    },
    {
      "cell_type": "markdown",
      "source": [
        "Repeated guests is very less which is 3.9% while 96.1% of the guests are not returning to the same hotel. So, it is a matter of thinking, the hotel should take proper steps to increase the numbers of repeated guests, they should take the feedbacks from the guests and try to improve their services."
      ],
      "metadata": {
        "id": "Xx8WAJvtYrdO"
      }
    },
    {
      "cell_type": "markdown",
      "source": [
        "##### 3. Will the gained insights help creating a positive business impact?\n",
        "Are there any insights that lead to negative growth? Justify with specific reason."
      ],
      "metadata": {
        "id": "y-Ehk30pYrdP"
      }
    },
    {
      "cell_type": "markdown",
      "source": [
        "Yes, the proportion of repeated guests is very low, so if hotel works well then the increase in number of repeated guests will ultimately boosts theie revenue, so hotels can give amazing offers to the non-repeating customers during off seasons to enhance revenue."
      ],
      "metadata": {
        "id": "jLNxxz7MYrdP"
      }
    },
    {
      "cell_type": "markdown",
      "source": [
        "#### Chart - 5\n",
        "### <b> Percentage distribution of required car parking spaces(Univariate)"
      ],
      "metadata": {
        "id": "bamQiAODYuh1"
      }
    },
    {
      "cell_type": "code",
      "source": [
        "# Chart - 5 visualization code\n",
        "hotel_df1['required_car_parking_spaces'].value_counts().plot.pie(explode=[0.05]*5,autopct='%1.1f%%',shadow=False,figsize=(10,15),fontsize=18, labels= None)\n",
        "labels = hotel_df1['required_car_parking_spaces'].value_counts().index\n",
        "plt.title(' % distribution of required car parking spaces',fontsize=15)\n",
        "plt.legend(bbox_to_anchor=(0.85,1),loc='upper left',labels=labels)\n",
        "plt.show()\n"
      ],
      "metadata": {
        "id": "TIJwrbroYuh3"
      },
      "execution_count": null,
      "outputs": []
    },
    {
      "cell_type": "markdown",
      "source": [
        "##### 1. Why did you pick the specific chart?"
      ],
      "metadata": {
        "id": "QHF8YVU7Yuh3"
      }
    },
    {
      "cell_type": "markdown",
      "source": [
        "We have used a pie chart because it gives the output in more understanding manner as we can clearly see the different two colors reflecting the demand of car parking space by guest."
      ],
      "metadata": {
        "id": "dcxuIMRPYuh3"
      }
    },
    {
      "cell_type": "markdown",
      "source": [
        "##### 2. What is/are the insight(s) found from the chart?"
      ],
      "metadata": {
        "id": "GwzvFGzlYuh3"
      }
    },
    {
      "cell_type": "markdown",
      "source": [
        "The pie chat shows 91.6% guests do not required car parking space, only 8.3% guests required only 1 parking space."
      ],
      "metadata": {
        "id": "uyqkiB8YYuh3"
      }
    },
    {
      "cell_type": "markdown",
      "source": [
        "##### 3. Will the gained insights help creating a positive business impact?\n",
        "Are there any insights that lead to negative growth? Justify with specific reason."
      ],
      "metadata": {
        "id": "qYpmQ266Yuh3"
      }
    },
    {
      "cell_type": "markdown",
      "source": [
        "Yes, the insights get from here definitely help the hotels to provide better service it can be said that hotel need to work on car parking space as only one car parking space required by 8.3% of guests, so its better to have limited car parking space and use the remaining space for other important work."
      ],
      "metadata": {
        "id": "_WtzZ_hCYuh4"
      }
    },
    {
      "cell_type": "markdown",
      "source": [
        "#### Chart - 6\n",
        "### <b> Meal type distribution (Univariate)"
      ],
      "metadata": {
        "id": "OH-pJp9IphqM"
      }
    },
    {
      "cell_type": "code",
      "source": [
        "# Chart - 6 visualization code\n",
        "plt.figure(figsize=(12,10))\n",
        "sns.countplot(x=hotel_df1['meal'])\n",
        "plt.xlabel('Meal Type', fontsize=15)\n",
        "plt.ylabel('Count',fontsize=15)\n",
        "plt.title('Preffered Meal Type',fontsize=15)\n",
        "plt.show()"
      ],
      "metadata": {
        "id": "kuRf4wtuphqN"
      },
      "execution_count": null,
      "outputs": []
    },
    {
      "cell_type": "markdown",
      "source": [
        "##### 1. Why did you pick the specific chart?"
      ],
      "metadata": {
        "id": "bbFf2-_FphqN"
      }
    },
    {
      "cell_type": "markdown",
      "source": [
        "This is Count Plot chart to get clear insights about the counts of different types os meal."
      ],
      "metadata": {
        "id": "loh7H2nzphqN"
      }
    },
    {
      "cell_type": "markdown",
      "source": [
        "##### 2. What is/are the insight(s) found from the chart?"
      ],
      "metadata": {
        "id": "_ouA3fa0phqN"
      }
    },
    {
      "cell_type": "markdown",
      "source": [
        "Well, the insights i found over here are, Most preffered meal type by the guests is BB(Bread and breakfast) and FB(Full Board) is the least preffered meal type by the guests."
      ],
      "metadata": {
        "id": "VECbqPI7phqN"
      }
    },
    {
      "cell_type": "markdown",
      "source": [
        "##### 3. Will the gained insights help creating a positive business impact?\n",
        "Are there any insights that lead to negative growth? Justify with specific reason."
      ],
      "metadata": {
        "id": "Seke61FWphqN"
      }
    },
    {
      "cell_type": "markdown",
      "source": [
        "So, the insight here also have some positive impact as hotels need to focus more on BB meal type so that the majority of the customers are satisfied while other types of meals should be given equal importance with proper management of food service so as to offer best services to the customers."
      ],
      "metadata": {
        "id": "DW4_bGpfphqN"
      }
    },
    {
      "cell_type": "markdown",
      "source": [
        "#### Chart - 7\n",
        "### <b> Pie chart for mostly used Distribution channel and Relationship of Distribution channel and adr"
      ],
      "metadata": {
        "id": "PIIx-8_IphqN"
      }
    },
    {
      "cell_type": "code",
      "source": [
        "# Chart - 7 visualization code"
      ],
      "metadata": {
        "id": "lqAIGUfyphqO"
      },
      "execution_count": null,
      "outputs": []
    },
    {
      "cell_type": "code",
      "source": [
        "# Calculate counts of distribution channels\n",
        "distribution_channel_counts = hotel_df1['distribution_channel'].value_counts()\n",
        "\n",
        "# Calculate percentages\n",
        "percentage_values = (distribution_channel_counts / distribution_channel_counts.sum()) * 100\n",
        "\n",
        "# Plotting the pie chart\n",
        "plt.figure(figsize=(12, 8))\n",
        "distribution_channel_counts.plot.pie(explode=[0.05]*len(distribution_channel_counts), shadow=False, startangle=90, autopct='%1.1f%%')\n",
        "plt.title('Distribution of Booking Channels')\n",
        "plt.ylabel('')\n",
        "plt.show()"
      ],
      "metadata": {
        "id": "ZZXZomCsVyJx"
      },
      "execution_count": null,
      "outputs": []
    },
    {
      "cell_type": "code",
      "source": [
        "# Using groupby distribution channel:\n",
        "distribution_channel_df=hotel_df1.groupby(['distribution_channel','hotel'])['adr'].mean().reset_index()\n",
        "# Set plot size and plot bar chart:\n",
        "plt.figure(figsize=(16,8))\n",
        "sns.barplot(x='distribution_channel',y='adr',data=distribution_channel_df,hue='hotel',palette='dark')\n",
        "plt.title('ADR across distribution channel')\n",
        "plt.show()"
      ],
      "metadata": {
        "id": "7eOHJjwXgROL"
      },
      "execution_count": null,
      "outputs": []
    },
    {
      "cell_type": "markdown",
      "source": [
        "##### 1. Why did you pick the specific chart?"
      ],
      "metadata": {
        "id": "t27r6nlMphqO"
      }
    },
    {
      "cell_type": "markdown",
      "source": [
        "First graph is pie chart to clear understanding of mostly used to booking distribution  channel with occupancy percentage of each booking channel, while in the second visulization, Bar chart shows frequency count of values for different levels of a catagorical or nominal variables."
      ],
      "metadata": {
        "id": "iv6ro40sphqO"
      }
    },
    {
      "cell_type": "markdown",
      "source": [
        "##### 2. What is/are the insight(s) found from the chart?"
      ],
      "metadata": {
        "id": "r2jJGEOYphqO"
      }
    },
    {
      "cell_type": "markdown",
      "source": [
        "From the 1st chart  i found that TA/TO has been mostly used for booking hotels Direct constitutes of 14.9%, corporates constitutes of 5.8%, GDS constitutes of only 0.2% and rest undefined are 0%.\n",
        "\n",
        "\n",
        "From the second chart it is clear that 'Direct' and 'TA/TO' have almost equally contribution in the adr in both type of hotels i.e; 'City Hotel' and 'Resort Hotel', while GDS has highly contributed in adr in 'City Hotel' type GDS needs to increase Resort hotel booking Corporate. These are corporate hotel booking companies which makes bookings possible."
      ],
      "metadata": {
        "id": "Po6ZPi4hphqO"
      }
    },
    {
      "cell_type": "markdown",
      "source": [
        "##### 3. Will the gained insights help creating a positive business impact?\n",
        "Are there any insights that lead to negative growth? Justify with specific reason."
      ],
      "metadata": {
        "id": "b0JNsNcRphqO"
      }
    },
    {
      "cell_type": "markdown",
      "source": [
        "So, from the 1st graph we have got the insight that 'TA/TO' is the leading one while Direct and corporates have the potential to grow as they occupy much less space than the leading one. So, a good understanding and relation of hotels with'TA/To' will definetely add up to the growth and revenue.\n",
        "\n",
        "\n",
        "Yes, the gained insights from 2nd visualization help different distribution channels to work on the spaces where they are lacking behind like GDS is lacking behind in the booking of resort hotels GDS is dominating in terms of adr in case of city hotels but lacking behind in the category of resort hotel, so just taking proper steps in the right direction will help to increase the overall revenue."
      ],
      "metadata": {
        "id": "xvSq8iUTphqO"
      }
    },
    {
      "cell_type": "markdown",
      "source": [
        "#### Chart - 8\n",
        "### <b> Booking by month and optimal stay length in hotel"
      ],
      "metadata": {
        "id": "BZR9WyysphqO"
      }
    },
    {
      "cell_type": "code",
      "source": [
        "# Chart - 8 visualization code\n",
        "# Using groupby on arrival_date_month and taking the hotel count:\n",
        "Bookings_by_months_df = hotel_df1.groupby(['arrival_date_month'])['hotel'].count().reset_index().rename(columns={'hotel':'counts'})\n",
        "# Create list of months in order :\n",
        "months=['January','February','March','April','May','June','July','August','September','October','November','December']\n",
        "# Creating df which will map the order of above months list without changing its values:\n",
        "Bookings_by_months_df['arrival_date_month']=pd.Categorical(Bookings_by_months_df['arrival_date_month'],categories=months,ordered=True)\n",
        "# Sorting by arrival_date_month :\n",
        "Bookings_by_months_df=Bookings_by_months_df.sort_values('arrival_date_month')\n",
        "\n",
        "Bookings_by_months_df"
      ],
      "metadata": {
        "id": "TdPTWpAVphqO"
      },
      "execution_count": null,
      "outputs": []
    },
    {
      "cell_type": "code",
      "source": [
        "# Set plot size :\n",
        "plt.figure(figsize=(22,10))\n",
        "# Plotting boxplot\n",
        "plt.scatter(x=Bookings_by_months_df['arrival_date_month'],y=Bookings_by_months_df['counts'])\n",
        "# Set title for the plot :\n",
        "plt.title('Number of bookings across each months', fontsize=15)\n",
        "# Set x label :\n",
        "plt.xlabel('Month',fontsize=15)\n",
        "# Set y label :\n",
        "plt.ylabel('Number of bookings', fontsize=15)\n",
        "plt.show()"
      ],
      "metadata": {
        "id": "We_Ek8--Ivyw"
      },
      "execution_count": null,
      "outputs": []
    },
    {
      "cell_type": "code",
      "source": [
        "# Using groupby function on total_stay and hotels :\n",
        "stay = hotel_df1.groupby(['total_stays','hotel']).agg('count').reset_index()\n",
        "# Taking only first three columns :\n",
        "stay = stay.iloc[:,:3]\n",
        "# Renaming the columns :\n",
        "stay = stay.rename(columns={'is_canceled':'Number of stays'})\n",
        "\n",
        "\n",
        "\n",
        "# Setting plot size plot bar\n",
        "plt.figure(figsize=(20,10))\n",
        "sns.barplot(x='total_stays',y='Number of stays', hue='hotel',data=stay)\n",
        "#Set labels :\n",
        "plt.title('optimal stay length in both hotel types',fontsize=15)\n",
        "plt.xlabel('Total stay(days)', fontsize=15)\n",
        "plt.ylabel('Count of stays',fontsize=15)\n",
        "plt.show()"
      ],
      "metadata": {
        "id": "4V2r4NPBpVAo"
      },
      "execution_count": null,
      "outputs": []
    },
    {
      "cell_type": "markdown",
      "source": [
        "##### 1. Why did you pick the specific chart?"
      ],
      "metadata": {
        "id": "jj7wYXLtphqO"
      }
    },
    {
      "cell_type": "markdown",
      "source": [
        "For 1st visualization i have used a sactterplot, to show the variation between number of bookings went through out the year.This plot is easy to understand so, here we can easily track the change of number of bookings with respect to month.\n",
        "\n",
        "In the 2nd visualization a barplot have been used, i have used this chart to have a clear view in understanding the relation between total stay in terms of days and count of stays."
      ],
      "metadata": {
        "id": "Ob8u6rCTphqO"
      }
    },
    {
      "cell_type": "markdown",
      "source": [
        "##### 2. What is/are the insight(s) found from the chart?"
      ],
      "metadata": {
        "id": "eZrbJ2SmphqO"
      }
    },
    {
      "cell_type": "markdown",
      "source": [
        "In the first chart we found that July and August had the most numbers of bookings, it might be because of the summer vacation .\n",
        "\n",
        "In the 2nd chart we found that, the optimal stay in both types of hotel is less than 7 days, so after that staying number has declined."
      ],
      "metadata": {
        "id": "mZtgC_hjphqO"
      }
    },
    {
      "cell_type": "markdown",
      "source": [
        "##### 3. Will the gained insights help creating a positive business impact?\n",
        "Are there any insights that lead to negative growth? Justify with specific reason."
      ],
      "metadata": {
        "id": "rFu4xreNphqO"
      }
    },
    {
      "cell_type": "markdown",
      "source": [
        "Yes, this insights provides good information, i.e; hotels must be prepare themselves for the month of July and August as maximum amount of bookings takes place on this 2months.\n",
        "\n",
        "\n",
        "Similarly the 2nd chart also provides us good insights, hotels can work in the domain to increase the staying of customers to increase their revenue. The other insight is that, most of the customers generally prefers one week stay in the hotels, so hotels should work properly and give offers so that the customers would return to the same hotels again which will eventually increase their revenue."
      ],
      "metadata": {
        "id": "ey_0qi68phqO"
      }
    },
    {
      "cell_type": "markdown",
      "source": [
        "#### Chart - 10\n",
        "### <b> Year and Hotel wise confirmed bookings and cancellation distribution :"
      ],
      "metadata": {
        "id": "U2RJ9gkRphqQ"
      }
    },
    {
      "cell_type": "code",
      "source": [
        "# Chart - 10 visualization code\n",
        "# Ploting a count plot chart :\n",
        "plt.figure(figsize=(14,6))\n",
        "sns.countplot(x='hotel',hue='is_canceled',palette='Set1',data=hotel_df1)\n",
        "plt.legend(['Confirmed','Cancelled'])\n",
        "plt.title('Hotel wise confirmation and cancellation of bookings', fontsize=20)\n",
        "plt.xlabel('Hotel',fontsize=15)\n",
        "plt.ylabel('Count of confirmation and cancellation',fontsize=15)\n",
        "plt.show()"
      ],
      "metadata": {
        "id": "GM7a4YP4phqQ"
      },
      "execution_count": null,
      "outputs": []
    },
    {
      "cell_type": "code",
      "source": [
        "# Removing the canceled booking from the data and creating a new dataframe :\n",
        "data_not_canceled = hotel_df1[hotel_df1['is_canceled']==0]\n",
        "# Year wise booking hotels :\n",
        "sns.set_style(style='darkgrid')\n",
        "plt.figure(figsize=(12,5))\n",
        "sns.countplot(x='arrival_date_year',hue='hotel',palette='tab10',data=data_not_canceled)\n",
        "plt.legend(['Restore Hotel','City Hotel'])\n",
        "plt.title('Year wise booking of Hotels',fontsize=18)\n",
        "plt.xlabel('year',fontsize=15)\n",
        "plt.ylabel('Number of bookings',fontsize=15)\n",
        "plt.show()"
      ],
      "metadata": {
        "id": "CeVrak2zz2vn"
      },
      "execution_count": null,
      "outputs": []
    },
    {
      "cell_type": "markdown",
      "source": [
        "##### 1. Why did you pick the specific chart?"
      ],
      "metadata": {
        "id": "1M8mcRywphqQ"
      }
    },
    {
      "cell_type": "markdown",
      "source": [
        "We have use the count plot and year wise booking count plot."
      ],
      "metadata": {
        "id": "8agQvks0phqQ"
      }
    },
    {
      "cell_type": "markdown",
      "source": [
        "##### 2. What is/are the insight(s) found from the chart?"
      ],
      "metadata": {
        "id": "tgIPom80phqQ"
      }
    },
    {
      "cell_type": "markdown",
      "source": [
        "We can clearly deduce from the above graphs that the city hotel is having greater number of bookings as compared to Resort hotel. But we can clearly sees that number of cancellation in city hotel is higher than the resort hotel.\n",
        "\n",
        "From the above graphs, it can be summarised that in the year 2016 both the hotel saw a massive in their bookings and by far the highest number of bookings."
      ],
      "metadata": {
        "id": "Qp13pnNzphqQ"
      }
    },
    {
      "cell_type": "markdown",
      "source": [
        "##### 3. Will the gained insights help creating a positive business impact?\n",
        "Are there any insights that lead to negative growth? Justify with specific reason."
      ],
      "metadata": {
        "id": "JMzcOPDDphqR"
      }
    },
    {
      "cell_type": "markdown",
      "source": [
        "Overall the graph shows the positive impacts, but the cancellation rate of city hotel creates a situation of deep concerns. Thus, we need to look over this problem. The solution to this problem is that we can check the reason of the cancellation of booking and need to get this sorted out as soon as possible at the business level to stop the problems getting broader."
      ],
      "metadata": {
        "id": "R4Ka1PC2phqR"
      }
    },
    {
      "cell_type": "markdown",
      "source": [
        "#### Chart - 11\n",
        "### <b> ADR across different months :"
      ],
      "metadata": {
        "id": "x-EpHcCOp1ci"
      }
    },
    {
      "cell_type": "code",
      "source": [
        "# Chart - 11 visualization code\n",
        "bookings_by_month_df = hotel_df1.groupby(['arrival_date_month','hotel'])['adr'].mean().reset_index()\n",
        "# Creating the month list :\n",
        "months=['January','February','March','April','May','June','July','August','September','October','November','December']\n",
        "# It will take the order of month list in the DataFrame along with values :\n",
        "bookings_by_month_df['arrival_date_month']=pd.Categorical(bookings_by_month_df['arrival_date_month'],categories=months,ordered=True)\n",
        "# Sorting the values :\n",
        "bookings_by_month_df=bookings_by_month_df.sort_values('arrival_date_month')\n",
        "\n",
        "bookings_by_month_df"
      ],
      "metadata": {
        "id": "mAQTIvtqp1cj"
      },
      "execution_count": null,
      "outputs": []
    },
    {
      "cell_type": "code",
      "source": [
        "# Setting the plot size and plotting the line :\n",
        "plt.figure(figsize=(22,10))\n",
        "sns.lineplot(x=bookings_by_month_df['arrival_date_month'],y=bookings_by_month_df['adr'],hue=bookings_by_month_df['hotel'])\n",
        "\n",
        "# Setting the label :\n",
        "plt.title('ADR across each month',fontsize=15)\n",
        "plt.xlabel('Month',fontsize=15)\n",
        "plt.ylabel('ADR',fontsize=15)\n",
        "plt.show()\n"
      ],
      "metadata": {
        "id": "bs8_BptU9y-A"
      },
      "execution_count": null,
      "outputs": []
    },
    {
      "cell_type": "markdown",
      "source": [
        "##### 1. Why did you pick the specific chart?"
      ],
      "metadata": {
        "id": "X_VqEhTip1ck"
      }
    },
    {
      "cell_type": "markdown",
      "source": [
        "We have picked the line chart here to get the clear insights of adr by City and Resort hotels across each month line chart is very useful because it helps to show small shifts that may be getting hard to spot in other hand to spot in the graph it helps to show tends to different periods. They are easy to understand to compare data more than one line can be plotted on the same axis."
      ],
      "metadata": {
        "id": "-vsMzt_np1ck"
      }
    },
    {
      "cell_type": "markdown",
      "source": [
        "##### 2. What is/are the insight(s) found from the chart?"
      ],
      "metadata": {
        "id": "8zGJKyg5p1ck"
      }
    },
    {
      "cell_type": "markdown",
      "source": [
        "Insights found in this charts are:\n",
        "- For Resort Hotel, ADR is high in the month of June, July, August as compared to the city hotels. The reasons may be that people want to spent their Summer Vacation in Resort Hotel.\n",
        "- The best time for guest to visit Resort or City Hotel is January, February, March, April, October, November, December as the average of daily rate in this month is very low, so it would be more comfortable."
      ],
      "metadata": {
        "id": "ZYdMsrqVp1ck"
      }
    },
    {
      "cell_type": "markdown",
      "source": [
        "##### 3. Will the gained insights help creating a positive business impact?\n",
        "Are there any insights that lead to negative growth? Justify with specific reason."
      ],
      "metadata": {
        "id": "PVzmfK_Ep1ck"
      }
    },
    {
      "cell_type": "markdown",
      "source": [
        "The Higher the ADR. the higher will be the revenue ao its good signs Hotels should work more to enhance their adr by offering good schemes to attract the customers in winter vacations also and no other holidays."
      ],
      "metadata": {
        "id": "druuKYZpp1ck"
      }
    },
    {
      "cell_type": "markdown",
      "source": [
        "#### Chart - 12\n",
        "### <b> Weekily stay distribution and calculation of cancellation and non-cancellation :"
      ],
      "metadata": {
        "id": "n3dbpmDWp1ck"
      }
    },
    {
      "cell_type": "code",
      "source": [
        "# Chart - 12 visualization code\n",
        "# Adding total staying day in hotel :\n",
        "hotel_df1['total_stay']=hotel_df1['stays_in_weekend_nights']+hotel_df1['stays_in_week_nights']\n",
        "# Using a violine plot to know which weeks,visitors stays the most :\n",
        "plt.figure(figsize=(20,10))\n",
        "sns.violinplot(x='arrival_date_week_number',y='total_stays',palette='Set2',data=hotel_df1)\n",
        "plt.title('Week wise number of stays',fontsize=15)\n",
        "plt.xlabel('Week number',fontsize=15)\n",
        "plt.ylabel('Number of stays',fontsize=15)\n",
        "plt.show()"
      ],
      "metadata": {
        "id": "bwevp1tKp1ck"
      },
      "execution_count": null,
      "outputs": []
    },
    {
      "cell_type": "code",
      "source": [
        "# Cancellation and Non-Cancellation pie chart :\n",
        "hotel_df1['is_canceled'].value_counts().plot.pie(explode=[0.05,0.05],autopct='%1.1f%%',shadow=True,figsize=(12,8),fontsize=30)\n",
        "plt.title('Cancellation and Non-Cancellation ',fontsize=15)"
      ],
      "metadata": {
        "id": "yvbYo9LeTCaI"
      },
      "execution_count": null,
      "outputs": []
    },
    {
      "cell_type": "markdown",
      "source": [
        "##### 1. Why did you pick the specific chart?"
      ],
      "metadata": {
        "id": "ylSl6qgtp1ck"
      }
    },
    {
      "cell_type": "markdown",
      "source": [
        "We have used the violinplot to gather proper relation between no of stays and week wise number of stays. Violin plots are used when one wants to observe the distribution of numeric data and especially useful when you want to make a comparision of distribution between multiple groups.\n",
        "\n",
        "We have picked this pie plot as it looks very precise to get the insights between two variables, As, we can see now 27.5% tickets was cancelled. Here, O denotes not cancelled and 1 denotes the cancelled one. So, I have used the pie plot it represent the data visually as fractional part of a whole, which can be an effective communication tool for the even uniformed audience to see a data compare at a glance to make an immediate analysis or to understand information quickly."
      ],
      "metadata": {
        "id": "m2xqNkiQp1ck"
      }
    },
    {
      "cell_type": "markdown",
      "source": [
        "##### 2. What is/are the insight(s) found from the chart?"
      ],
      "metadata": {
        "id": "ZWILFDl5p1ck"
      }
    },
    {
      "cell_type": "markdown",
      "source": [
        "From the above violin plot we have found that, from week 28 to 31, it has shown the highest days of stay whereas from the week 1 to 11 it has shown a very steady trend in the number of stays and also the week 18 to 22 has shown least number of stays by the visitors in aggregate of all 33 years 2015, 2016 and 2017.\n",
        "\n",
        "From the graph we have found the insights that more than 1/4th of the overall bookings i.e., approx 27.5 of the ticket wq=as got cancelled."
      ],
      "metadata": {
        "id": "x-lUsV2mp1ck"
      }
    },
    {
      "cell_type": "markdown",
      "source": [
        "##### 3. Will the gained insights help creating a positive business impact?\n",
        "Are there any insights that lead to negative growth? Justify with specific reason."
      ],
      "metadata": {
        "id": "M7G43BXep1ck"
      }
    },
    {
      "cell_type": "markdown",
      "source": [
        "Yes, Client can have a better plan to provide better service to the guests so that the revenue can be . So, here as we can see that more than 27% booking got cancelled. Thus, they need to look over this problem. The solution for this problem is that we can check the reasons of cancellation of a booking and need to sorted out as soon as possible at business level to stop the problem getting broader."
      ],
      "metadata": {
        "id": "5wwDJXsLp1cl"
      }
    },
    {
      "cell_type": "markdown",
      "source": [
        "#### Chart - 13\n",
        "### <b> Room type preference and customer types"
      ],
      "metadata": {
        "id": "Ag9LCva-p1cl"
      }
    },
    {
      "cell_type": "code",
      "source": [
        "# Chart - 13 visualization code\n",
        "# Set plot size :\n",
        "plt.figure(figsize=(20,10))\n",
        "# Plotting seaborn countplot:\n",
        "sns.countplot(x=hotel_df1['assigned_room_type'],order=hotel_df1['assigned_room_type'].value_counts().index)\n",
        "# Set xlabel for the plot :\n",
        "plt.xlabel('Room type',fontsize=15)\n",
        "# Set ylabel for the plot :\n",
        "plt.ylabel('Count of Room Type',fontsize=15)\n",
        "# Set title for the plot :\n",
        "plt.title('Most preffered Room type',fontsize=15)\n",
        "plt.show()"
      ],
      "metadata": {
        "id": "EUfxeq9-p1cl"
      },
      "execution_count": null,
      "outputs": []
    },
    {
      "cell_type": "code",
      "source": [
        "# Using seaborn to plot a count plot chart to demonstrate the types of customers visit the most :\n",
        "plt.figure(figsize=(16,7))\n",
        "sns.countplot(x='arrival_date_month',hue='customer_type',palette='Set1',data=hotel_df1)\n",
        "plt.title('Types of customer arrived month wise', fontsize=18)\n",
        "plt.xlabel('Number of customers',fontsize=15)\n",
        "plt.ylabel('Months',fontsize=15)\n",
        "plt.show()"
      ],
      "metadata": {
        "id": "Sv9BpGOzehkc"
      },
      "execution_count": null,
      "outputs": []
    },
    {
      "cell_type": "markdown",
      "source": [
        "##### 1. Why did you pick the specific chart?"
      ],
      "metadata": {
        "id": "E6MkPsBcp1cl"
      }
    },
    {
      "cell_type": "markdown",
      "source": [
        "For 1st visualization we have picked the bar chart to display the results for this set of code. Here i have used bar graph to show distribution of volume , which type of rooms are alloted. Bar graph summarizes the large set of data in visual form. It clarifies the trend of data better than the table. So, we can use the bar graph.\n",
        "\n",
        "\n",
        "While the 2nd visualization involves a count plot because it helps us to get clear the total number of guests visited. So, we have used count plot here to know about the types pf guests."
      ],
      "metadata": {
        "id": "V22bRsFWp1cl"
      }
    },
    {
      "cell_type": "markdown",
      "source": [
        "##### 2. What is/are the insight(s) found from the chart?"
      ],
      "metadata": {
        "id": "2cELzS2fp1cl"
      }
    },
    {
      "cell_type": "markdown",
      "source": [
        "From the above chart it is found that the most preffered Room type is'A'. Majority of people show the intrest on the 'A'type room.\n",
        "\n",
        "From the above graph it can be summarised that the Transient type of customers visit the most whereas the visitors who are in group comes in the category of least visitors."
      ],
      "metadata": {
        "id": "ozQPc2_Ip1cl"
      }
    },
    {
      "cell_type": "markdown",
      "source": [
        "##### 3. Will the gained insights help creating a positive business impact?\n",
        "Are there any insights that lead to negative growth? Justify with specific reason."
      ],
      "metadata": {
        "id": "3MPXvC8up1cl"
      }
    },
    {
      "cell_type": "markdown",
      "source": [
        "Yes, from the graph it can be seen that there are positive imoacts because 'A'D'E' is more preffered by the guest due to better service offered in room type. So, overall booking in a hotel matters. So, each room types belong to each hotel so wherever the customers goes the hotel will be benefit but Hotels should also look in the factors affecting less preference in some particular room type.\n",
        "\n",
        "\n",
        "Ofcourse, the better understanding regarding the different types of guests will help to take proper right steps towards services, facilities requirements and offers which will directly results in the growth in business."
      ],
      "metadata": {
        "id": "GL8l1tdLp1cl"
      }
    },
    {
      "cell_type": "markdown",
      "source": [
        "#### Chart - 14 - **Correlation Heatmap**"
      ],
      "metadata": {
        "id": "NC_X3p0fY2L0"
      }
    },
    {
      "cell_type": "code",
      "source": [
        "# Correlation Heatmap visualization code"
      ],
      "metadata": {
        "id": "xyC9zolEZNRQ"
      },
      "execution_count": null,
      "outputs": []
    },
    {
      "cell_type": "code",
      "source": [
        "# Selecting numeric columns for correlation\n",
        "numeric_columns = hotel_df1.select_dtypes(include=['float64', 'int64'])\n",
        "\n",
        "# Create correlation matrix\n",
        "correlation_matrix = numeric_columns.corr()\n",
        "\n",
        "# Plotting the heatmap\n",
        "plt.figure(figsize=(18, 10))\n",
        "sns.heatmap(correlation_matrix, annot=True, cmap='coolwarm', fmt=\".2f\")\n",
        "plt.title('Correlation of Numeric Columns', fontsize=15)\n",
        "plt.show()"
      ],
      "metadata": {
        "id": "-BLUe6qpWWgb"
      },
      "execution_count": null,
      "outputs": []
    },
    {
      "cell_type": "markdown",
      "source": [
        "##### 1. Why did you pick the specific chart?"
      ],
      "metadata": {
        "id": "UV0SzAkaZNRQ"
      }
    },
    {
      "cell_type": "markdown",
      "source": [
        "A correlation matrix is a table showing correlation between columns. Each cell in the table shows the correlation between two variables. A correlation matrix is used to summarize data, as an input into a more advance and as a diagnostic for advance analysis. The range of correlation is [-1,1].\n",
        "\n",
        "Thus to know the correlation between all the variables along with the correlation coeficients, we have used correlation heatmap."
      ],
      "metadata": {
        "id": "DVPuT8LYZNRQ"
      }
    },
    {
      "cell_type": "markdown",
      "source": [
        "##### 2. What is/are the insight(s) found from the chart?"
      ],
      "metadata": {
        "id": "YPEH6qLeZNRQ"
      }
    },
    {
      "cell_type": "markdown",
      "source": [
        "1. is_canceled and total_stay are negatively corelated. This means customers are unlikely to cancel their bookings if they dont get the same room as per reserved room.\n",
        "2. lead_time and total_stay is positively correlated. This means more the stay of customers, more will be the lead time.\n",
        "3. adults, childrens, and babies are corelated to each other. This indicates more the people, more will be the adr.\n",
        "4. is_repeated_guest and previous bookings not canceled have a strong corelation. This may be due to the reason that repeated guests are not interested to cancel their bookings.\n",
        "So, these are some powerful insights found from the chart of corelation heatmap."
      ],
      "metadata": {
        "id": "bfSqtnDqZNRR"
      }
    },
    {
      "cell_type": "markdown",
      "source": [
        "#### Chart - 15 - Pair Plot"
      ],
      "metadata": {
        "id": "q29F0dvdveiT"
      }
    },
    {
      "cell_type": "code",
      "source": [
        "# Pair Plot visualization code\n",
        "sns.pairplot(hotel_df1,hue=None)\n"
      ],
      "metadata": {
        "id": "o58-TEIhveiU"
      },
      "execution_count": null,
      "outputs": []
    },
    {
      "cell_type": "markdown",
      "source": [
        "##### 1. Why did you pick the specific chart?"
      ],
      "metadata": {
        "id": "EXh0U9oCveiU"
      }
    },
    {
      "cell_type": "markdown",
      "source": [
        "Pair plot is used to understand the best set of features to explain the relationship between two variables or to form the most separated clusters. It also helps to form some simple classification models by drawing some simple lines or make linear separation in our data set.\n",
        "\n",
        "Thus, We have used pair plot to analyse the patterns of data and relationship between the features it's exactly same as the correlation map but here it shows the output in the graphical representation."
      ],
      "metadata": {
        "id": "eMmPjTByveiU"
      }
    },
    {
      "cell_type": "markdown",
      "source": [
        "##### 2. What is/are the insight(s) found from the chart?"
      ],
      "metadata": {
        "id": "22aHeOlLveiV"
      }
    },
    {
      "cell_type": "markdown",
      "source": [
        "Generally this chart reflects the relationship between diferent columns."
      ],
      "metadata": {
        "id": "uPQ8RGwHveiV"
      }
    },
    {
      "cell_type": "markdown",
      "source": [
        "## **5. Solution to Business Objective**"
      ],
      "metadata": {
        "id": "JcMwzZxoAimU"
      }
    },
    {
      "cell_type": "markdown",
      "source": [
        "#### What do you suggest the client to achieve Business Objective ?\n",
        "Explain Briefly."
      ],
      "metadata": {
        "id": "8G2x9gOozGDZ"
      }
    },
    {
      "cell_type": "markdown",
      "source": [
        "<b> Business adjectives attained as follows :</b>\n",
        "- To attain high growth and more success, hotel business need to flourish and for that few things which need to consider is high revenue generation, customers satisfaction and employee retention.\n",
        "- We are able to achieve the same by showing the client which are high in revenue generation by using various charts and graphs distribution.\n",
        "- Enhancing the revenue adopted distribution of which type room are most preffered and reserved and which are the months suitable for visitors.\n",
        "- We have also found that arouses preference in different categories like most liked meal type, optimal stay length facilities required by customers like car parking spaces etc. So, all these insights ultimately add to have a better planning for growth and higher revenue.\n",
        "- So. preparing well by using and understanding these useful outcomes, the client can be well prepared in advance so that minimum grivences would be faced by clients in long run and would help in further enhancement of their hospitality and service.\n",
        "- Ask for feedback often from the guest visiting the hotels so that the quality can be upgraded to the next level to increase more guests.\n",
        "- Periodically throw offers to attract the old customers so as to increase the no of repeated guests."
      ],
      "metadata": {
        "id": "pASKb0qOza21"
      }
    },
    {
      "cell_type": "markdown",
      "source": [
        "# **Conclusion**"
      ],
      "metadata": {
        "id": "gCX9965dhzqZ"
      }
    },
    {
      "cell_type": "markdown",
      "source": [
        "1. City Hotel seems to be more preferred among travellers and it also genrates more revenue & profit.\n",
        "2. Most number of bookings are made in July and August as compared rest of the months.\n",
        "3. Room Type A is the most preffered room type among travellers.\n",
        "4. Most of the guest stays for 1-4 days in the hotels.\n",
        "5. City Hotel retains more number of guests.\n",
        "6. Around one-fourth of the total bookings gets canceled. More cancellation of bookings.\n",
        "7. New guest tends to cancel bookings more than repeated customers.\n",
        "8. Lead time, number of days in waiting list or assignation of reserved room to customers does not affect cancellation of bookings.\n",
        "9. Corporate has the most percentage of repeated guest while TA/TO has the least whereas in the case of cancelled bookings TA/TO has the most percentage while Corporate has the least.\n",
        "10. The length of the stay decreases as ADR increases probably to reduce the cost."
      ],
      "metadata": {
        "id": "Fjb1IsQkh3yE"
      }
    },
    {
      "cell_type": "markdown",
      "source": [
        "### ***Hurrah! You have successfully completed your EDA Capstone Project !!!***"
      ],
      "metadata": {
        "id": "gIfDvo9L0UH2"
      }
    }
  ]
}